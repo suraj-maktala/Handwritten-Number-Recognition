{
 "cells": [
  {
   "cell_type": "markdown",
   "id": "4c173810",
   "metadata": {},
   "source": [
    "Importing Libraries"
   ]
  },
  {
   "cell_type": "code",
   "execution_count": 1,
   "id": "06adc815",
   "metadata": {},
   "outputs": [],
   "source": [
    "import torch\n",
    "from torch import nn\n",
    "from torch.utils.data import DataLoader\n",
    "from torchvision import datasets, transforms\n",
    "import matplotlib.pyplot as plt\n",
    "import numpy as np\n",
    "from sklearn.metrics import multilabel_confusion_matrix, accuracy_score"
   ]
  },
  {
   "cell_type": "code",
   "execution_count": 2,
   "id": "7b63a194",
   "metadata": {},
   "outputs": [],
   "source": [
    "device = 'cuda' if torch.cuda.is_available() else 'cpu'"
   ]
  },
  {
   "cell_type": "code",
   "execution_count": 3,
   "id": "e2f27fc6",
   "metadata": {},
   "outputs": [
    {
     "name": "stdout",
     "output_type": "stream",
     "text": [
      "2.7.1+cu126\n",
      "True\n"
     ]
    }
   ],
   "source": [
    "print(torch.__version__)\n",
    "print(torch.cuda.is_available())"
   ]
  },
  {
   "cell_type": "markdown",
   "id": "ec2d6ded",
   "metadata": {},
   "source": [
    "Dataset"
   ]
  },
  {
   "cell_type": "code",
   "execution_count": 4,
   "id": "ec7a7e31",
   "metadata": {},
   "outputs": [],
   "source": [
    "training_data = datasets.MNIST(\n",
    "    root = \"dataset\",\n",
    "    train = True,\n",
    "    transform = transforms.ToTensor(),\n",
    "    download=True\n",
    ")\n",
    "\n",
    "testing_data = datasets.MNIST(\n",
    "    root = \"dataset\",\n",
    "    transform=transforms.ToTensor(),\n",
    "    train = False,\n",
    "    download=True\n",
    ")"
   ]
  },
  {
   "cell_type": "code",
   "execution_count": 5,
   "id": "32df7d8a",
   "metadata": {},
   "outputs": [],
   "source": [
    "validation_data = list()\n",
    "for i in range(len(testing_data)//2):\n",
    "    validation_x = testing_data[i][0]\n",
    "    validation_y = testing_data[i][1]\n",
    "    validation_data.append((validation_x, validation_y))"
   ]
  },
  {
   "cell_type": "code",
   "execution_count": 6,
   "id": "8b138011",
   "metadata": {},
   "outputs": [
    {
     "name": "stdout",
     "output_type": "stream",
     "text": [
      "Type of each entry in Dataset: <class 'tuple'>\n",
      "Length of each entry: 2\n",
      "Shape of Image: torch.Size([1, 28, 28])\n"
     ]
    }
   ],
   "source": [
    "print(f\"Type of each entry in Dataset: {type(training_data[0])}\")\n",
    "print(f\"Length of each entry: {len(training_data[0])}\")\n",
    "print(f\"Shape of Image: {training_data[0][0].shape}\")"
   ]
  },
  {
   "cell_type": "code",
   "execution_count": 7,
   "id": "397ba027",
   "metadata": {},
   "outputs": [
    {
     "name": "stdout",
     "output_type": "stream",
     "text": [
      "Length of Training Data 60000\n",
      "Length of Validation Data 5000\n",
      "Length of Testing Data 10000\n"
     ]
    }
   ],
   "source": [
    "print(f\"Length of Training Data {len(training_data)}\")\n",
    "print(f\"Length of Validation Data {len(validation_data)}\")\n",
    "print(f\"Length of Testing Data {len(testing_data)}\")"
   ]
  },
  {
   "cell_type": "code",
   "execution_count": 8,
   "id": "7a37926f",
   "metadata": {},
   "outputs": [
    {
     "name": "stdout",
     "output_type": "stream",
     "text": [
      "Shape of the input features : (1, 28, 28)\n",
      "Labels for the inputs : [0, 1, 2, 3, 4, 5, 6, 7, 8, 9]\n"
     ]
    }
   ],
   "source": [
    "input_features = tuple(training_data.__getitem__(0)[0].shape)\n",
    "output_labels = sorted(set([training_data.__getitem__(label)[1] for label in range(len(training_data))]))\n",
    "print(f\"Shape of the input features : {input_features}\")\n",
    "print(f\"Labels for the inputs : {output_labels}\")"
   ]
  },
  {
   "cell_type": "markdown",
   "id": "b6b5835d",
   "metadata": {},
   "source": [
    "Model"
   ]
  },
  {
   "cell_type": "code",
   "execution_count": 536,
   "id": "bad75507",
   "metadata": {},
   "outputs": [],
   "source": [
    "OUTPUT_CHANNELS = 4\n",
    "KERNEL_SIZE = (3,3)\n",
    "HIDDEN_UNITS_1 = 512\n",
    "HIDDEN_UNITS_2 = 64\n",
    "class Number_Recognition_Model(nn.Module):\n",
    "    def __init__(self, input_features, output_labels):\n",
    "        super().__init__()\n",
    "        \n",
    "        C, H, W = input_features\n",
    "        self.conv_layer_1 = nn.Conv2d(in_channels=C, out_channels=OUTPUT_CHANNELS, kernel_size=KERNEL_SIZE) \n",
    "        self.relu_layer = nn.ReLU()\n",
    "        self.maxpool_layer_1 = nn.MaxPool2d(kernel_size=KERNEL_SIZE, stride = (1,1))\n",
    "        self.flatten_layer = nn.Flatten()\n",
    "        self.linear_layer_1 = nn.Linear(in_features=2304, out_features=HIDDEN_UNITS_1)\n",
    "        self.activation_layer = nn.Tanh()\n",
    "        self.linear_layer_2 = nn.Linear(in_features=HIDDEN_UNITS_1, out_features=HIDDEN_UNITS_2)\n",
    "        self.linear_layer_final = nn.Linear(in_features=HIDDEN_UNITS_2, out_features=output_labels) \n",
    "    \n",
    "    def forward(self, x):\n",
    "        x = self.conv_layer_1(x)\n",
    "        x = self.relu_layer(x)\n",
    "        x = self.maxpool_layer_1(x)\n",
    "        x = self.flatten_layer(x)\n",
    "        x = self.linear_layer_1(x)\n",
    "        x = self.activation_layer(x)\n",
    "        x = self.linear_layer_2(x)\n",
    "        x = self.activation_layer(x)\n",
    "        logits = self.linear_layer_final(x)\n",
    "\n",
    "        return logits"
   ]
  },
  {
   "cell_type": "code",
   "execution_count": 537,
   "id": "3e3c9c54",
   "metadata": {},
   "outputs": [],
   "source": [
    "model = Number_Recognition_Model(input_features=input_features, output_labels=len(output_labels))\n",
    "model = model.to(device=device)"
   ]
  },
  {
   "cell_type": "code",
   "execution_count": 538,
   "id": "8da9d62b",
   "metadata": {},
   "outputs": [
    {
     "name": "stdout",
     "output_type": "stream",
     "text": [
      "1213682\n"
     ]
    }
   ],
   "source": [
    "cnt = 0\n",
    "params = list(model.parameters())\n",
    "for i in range(len(params)):\n",
    "    cnt += params[i].numel()\n",
    "    # break\n",
    "print(cnt)"
   ]
  },
  {
   "cell_type": "markdown",
   "id": "6a1acba2",
   "metadata": {},
   "source": [
    "Loss Function"
   ]
  },
  {
   "cell_type": "code",
   "execution_count": 539,
   "id": "bf806b49",
   "metadata": {},
   "outputs": [],
   "source": [
    "loss_fn = nn.CrossEntropyLoss()"
   ]
  },
  {
   "cell_type": "markdown",
   "id": "776f4dcd",
   "metadata": {},
   "source": [
    "Model Training"
   ]
  },
  {
   "cell_type": "code",
   "execution_count": 714,
   "id": "a43c75e9",
   "metadata": {},
   "outputs": [],
   "source": [
    "training_batches = DataLoader(training_data, batch_size = 64, shuffle=True)\n",
    "validation_batches = DataLoader(validation_data, batch_size = 64, shuffle=True)"
   ]
  },
  {
   "cell_type": "code",
   "execution_count": 715,
   "id": "31c8a14f",
   "metadata": {},
   "outputs": [
    {
     "data": {
      "text/plain": [
       "(79, 938)"
      ]
     },
     "execution_count": 715,
     "metadata": {},
     "output_type": "execute_result"
    }
   ],
   "source": [
    "len(validation_batches), len(training_batches)"
   ]
  },
  {
   "cell_type": "code",
   "execution_count": 716,
   "id": "5121a130",
   "metadata": {},
   "outputs": [],
   "source": [
    "training_iterator = training_batches._get_iterator()\n",
    "validation_iterator = validation_batches._get_iterator()"
   ]
  },
  {
   "cell_type": "code",
   "execution_count": 717,
   "id": "7ddfd99e",
   "metadata": {},
   "outputs": [
    {
     "name": "stdout",
     "output_type": "stream",
     "text": [
      "training_loss: 0.16449420154094696, loss_val: 0.06139417365193367\n",
      "training_loss: 0.22914060950279236, loss_val: 0.12474758177995682\n",
      "training_loss: 0.023973261937499046, loss_val: 0.13766080141067505\n",
      "training_loss: 0.025734253227710724, loss_val: 0.06305421888828278\n",
      "training_loss: 0.04954054579138756, loss_val: 0.17062540352344513\n",
      "training_loss: 0.08759963512420654, loss_val: 0.1476622074842453\n",
      "training_loss: 0.04847114160656929, loss_val: 0.07457496970891953\n",
      "training_loss: 0.1390169858932495, loss_val: 0.06107175350189209\n",
      "training_loss: 0.094835065305233, loss_val: 0.13343976438045502\n",
      "training_loss: 0.1755371242761612, loss_val: 0.07887033373117447\n",
      "training_loss: 0.07102508097887039, loss_val: 0.06892766803503036\n",
      "training_loss: 0.16888527572155, loss_val: 0.06427933275699615\n",
      "training_loss: 0.04403960332274437, loss_val: 0.1630295068025589\n",
      "training_loss: 0.01230310183018446, loss_val: 0.13904711604118347\n",
      "training_loss: 0.07280734181404114, loss_val: 0.09499993175268173\n",
      "training_loss: 0.0123901991173625, loss_val: 0.09901852160692215\n",
      "training_loss: 0.0763874500989914, loss_val: 0.05782533809542656\n",
      "training_loss: 0.035680141299963, loss_val: 0.1917673945426941\n",
      "training_loss: 0.08306994289159775, loss_val: 0.17354390025138855\n"
     ]
    }
   ],
   "source": [
    "track_train_loss = list()\n",
    "track_val_loss = list()\n",
    "track_train_epoch = list()\n",
    "track_val_epoch = list()\n",
    "\n",
    "EPOCHES = len(training_batches)\n",
    "LR = 0.00001\n",
    "\n",
    "model.train()\n",
    "for epoch in range(EPOCHES):\n",
    "\n",
    "    optimizer = torch.optim.Adam(params=model.parameters(),lr=LR) \n",
    "    batch = next(training_iterator)\n",
    "    \n",
    "    x = batch[0]\n",
    "    y = batch[1]\n",
    "\n",
    "    x = x.to(device)\n",
    "    y = y.to(device)\n",
    "\n",
    "    probs = model(x)\n",
    "\n",
    "    loss = loss_fn(probs, y)\n",
    "\n",
    "    optimizer.zero_grad()\n",
    "\n",
    "    loss.backward()\n",
    "\n",
    "    optimizer.step()\n",
    "\n",
    "    track_train_loss.append(loss.item())\n",
    "    track_train_epoch.append(epoch)\n",
    "    \n",
    "    #### Validation Testing ####\n",
    "\n",
    "    if epoch % 50 == 0:\n",
    "        batch = next(validation_iterator)\n",
    "        x = batch[0].to(device)\n",
    "        y = batch[1].to(device)\n",
    "\n",
    "        model.eval()\n",
    "        \n",
    "        with torch.inference_mode():\n",
    "            probs = model(x)\n",
    "            loss_val = loss_fn(probs, y)\n",
    "            track_val_loss.append(loss_val.item())\n",
    "            track_val_epoch.append(epoch)\n",
    "        \n",
    "        model.train()\n",
    "        print(f\"training_loss: {loss.item()}, loss_val: {loss_val.item()}\")\n",
    "\n",
    "    # if epoch % 200 == 0:\n",
    "    #     LR = LR / 10\n",
    "    # break"
   ]
  },
  {
   "cell_type": "code",
   "execution_count": 718,
   "id": "e39174cb",
   "metadata": {},
   "outputs": [],
   "source": [
    "track_train_epoch_np = np.array(track_train_epoch)\n",
    "track_val_epoch_np = np.array(track_val_epoch)\n",
    "track_train_loss_np = np.array(track_train_loss)\n",
    "track_val_loss_np = np.array(track_val_loss)"
   ]
  },
  {
   "cell_type": "code",
   "execution_count": 719,
   "id": "7a3b0d69",
   "metadata": {},
   "outputs": [
    {
     "data": {
      "image/png": "[encoded data removed]",
      "text/plain": [
       "<Figure size 640x480 with 1 Axes>"
      ]
     },
     "metadata": {},
     "output_type": "display_data"
    }
   ],
   "source": [
    "plt.plot(track_train_epoch_np,track_train_loss_np, color = \"g\",label=\"training loss\")\n",
    "plt.plot(track_val_epoch_np, track_val_loss_np, color = \"b\", label=\"validation_loss\")\n",
    "plt.legend()\n",
    "plt.show()"
   ]
  },
  {
   "cell_type": "markdown",
   "id": "5c09bf4b",
   "metadata": {},
   "source": [
    "Model Saving & Loading"
   ]
  },
  {
   "cell_type": "code",
   "execution_count": 727,
   "id": "23f83902",
   "metadata": {},
   "outputs": [],
   "source": [
    "VERSION = \"v9\"\n",
    "MODEL_PATH = f\"models/model_weights_{VERSION}.pth\""
   ]
  },
  {
   "cell_type": "code",
   "execution_count": 728,
   "id": "b30e985f",
   "metadata": {},
   "outputs": [],
   "source": [
    "torch.save(model.state_dict(), MODEL_PATH)"
   ]
  },
  {
   "cell_type": "code",
   "execution_count": 680,
   "id": "c488c0e3",
   "metadata": {},
   "outputs": [
    {
     "data": {
      "text/plain": [
       "<All keys matched successfully>"
      ]
     },
     "execution_count": 680,
     "metadata": {},
     "output_type": "execute_result"
    }
   ],
   "source": [
    "model.load_state_dict(torch.load(MODEL_PATH,weights_only=True))"
   ]
  },
  {
   "cell_type": "markdown",
   "id": "d8188f3c",
   "metadata": {},
   "source": [
    "Model Evaluation"
   ]
  },
  {
   "cell_type": "code",
   "execution_count": 619,
   "id": "ab5cf8c4",
   "metadata": {},
   "outputs": [],
   "source": [
    "testing_record = testing_data.__getitem__(5000)\n",
    "testing_x = testing_record[0].unsqueeze(dim=0)\n",
    "testing_y = torch.tensor(testing_record[1]).unsqueeze(dim=0)\n",
    "for i in range(5001,len(testing_data)):\n",
    "    testing_record = testing_data.__getitem__(i)\n",
    "    testing_x = torch.cat((testing_x, testing_record[0].unsqueeze(dim=0)), dim=0)\n",
    "    testing_y = torch.cat((testing_y, torch.tensor(testing_record[1]).unsqueeze(dim=0)), dim=0)"
   ]
  },
  {
   "cell_type": "code",
   "execution_count": 604,
   "id": "84347617",
   "metadata": {},
   "outputs": [
    {
     "name": "stdout",
     "output_type": "stream",
     "text": [
      "Shape of Test Inputs: torch.Size([5000, 1, 28, 28])\n",
      "Shape of Test Labels: torch.Size([5000]) \n"
     ]
    }
   ],
   "source": [
    "print(f\"Shape of Test Inputs: {testing_x.shape}\")\n",
    "print(f\"Shape of Test Labels: {testing_y.shape} \")"
   ]
  },
  {
   "cell_type": "code",
   "execution_count": 720,
   "id": "98c97988",
   "metadata": {},
   "outputs": [
    {
     "name": "stdout",
     "output_type": "stream",
     "text": [
      "Testing Loss: 0.06845033168792725\n"
     ]
    }
   ],
   "source": [
    "predictions = list()\n",
    "with torch.inference_mode() :\n",
    "    model.eval()\n",
    "    x = testing_x.to(device=device)\n",
    "    y = testing_y.to(device=device)\n",
    "    logits = model(x)\n",
    "    loss = loss_fn(logits, y)\n",
    "    print(f\"Testing Loss: {loss}\")"
   ]
  },
  {
   "cell_type": "code",
   "execution_count": 721,
   "id": "e1df22de",
   "metadata": {},
   "outputs": [],
   "source": [
    "predictions = torch.argmax(nn.functional.softmax(logits, dim=1), dim = 1).to(\"cpu\").numpy()"
   ]
  },
  {
   "cell_type": "code",
   "execution_count": 722,
   "id": "14425c36",
   "metadata": {},
   "outputs": [
    {
     "data": {
      "text/plain": [
       "0.9792"
      ]
     },
     "execution_count": 722,
     "metadata": {},
     "output_type": "execute_result"
    }
   ],
   "source": [
    "accuracy_score(testing_y.numpy(), predictions)"
   ]
  },
  {
   "cell_type": "markdown",
   "id": "1a9c7b94",
   "metadata": {},
   "source": [
    "Model Testing"
   ]
  },
  {
   "cell_type": "code",
   "execution_count": 737,
   "id": "36365c0e",
   "metadata": {},
   "outputs": [],
   "source": [
    "idx = np.random.randint(low=0, high=len(testing_data), size=(10,))\n",
    "images = list()\n",
    "for i in idx:\n",
    "    images.append(testing_data[i][0].squeeze(dim=0))"
   ]
  },
  {
   "cell_type": "code",
   "execution_count": 738,
   "id": "3cc5e27b",
   "metadata": {},
   "outputs": [
    {
     "data": {
      "image/png": "[encoded data removed]",
      "text/plain": [
       "<Figure size 1500x15000 with 10 Axes>"
      ]
     },
     "metadata": {},
     "output_type": "display_data"
    }
   ],
   "source": [
    "fig , axes = plt.subplots(1,10)\n",
    "fig.set_size_inches(15, 150)\n",
    "for i ,img in enumerate(images):\n",
    "    axes[i].imshow(img,cmap=\"gray\")\n",
    "\n",
    "plt.show()"
   ]
  },
  {
   "cell_type": "code",
   "execution_count": 739,
   "id": "65c513fd",
   "metadata": {},
   "outputs": [],
   "source": [
    "x = images[0].reshape(1,1,28,28)\n",
    "\n",
    "for i in range(1,len(images)):\n",
    "    x = np.concatenate((x, images[i].reshape(1,1,28,28)), axis=0)\n",
    "\n",
    "x = torch.from_numpy(x)\n",
    "x = x.type(torch.float32)\n",
    "x = x.to(device=device)"
   ]
  },
  {
   "cell_type": "code",
   "execution_count": 740,
   "id": "4c74b5ae",
   "metadata": {},
   "outputs": [
    {
     "name": "stdout",
     "output_type": "stream",
     "text": [
      "tensor([7, 2, 5, 3, 1, 5, 9, 2, 7, 6], device='cuda:0')\n"
     ]
    }
   ],
   "source": [
    "with torch.inference_mode():\n",
    "    model.eval()\n",
    "    preds = model(x)\n",
    "    print(torch.argmax(preds, dim=1))"
   ]
  }
 ],
 "metadata": {
  "kernelspec": {
   "display_name": "Python 3",
   "language": "python",
   "name": "python3"
  },
  "language_info": {
   "codemirror_mode": {
    "name": "ipython",
    "version": 3
   },
   "file_extension": ".py",
   "mimetype": "text/x-python",
   "name": "python",
   "nbconvert_exporter": "python",
   "pygments_lexer": "ipython3",
   "version": "3.13.3"
  }
 },
 "nbformat": 4,
 "nbformat_minor": 5
}
